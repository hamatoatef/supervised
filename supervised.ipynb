{
 "cells": [
  {
   "cell_type": "code",
   "execution_count": 1,
   "id": "08fd7056",
   "metadata": {
    "execution": {
     "iopub.execute_input": "2022-08-29T23:58:37.024340Z",
     "iopub.status.busy": "2022-08-29T23:58:37.022984Z",
     "iopub.status.idle": "2022-08-29T23:58:37.037088Z",
     "shell.execute_reply": "2022-08-29T23:58:37.037690Z",
     "shell.execute_reply.started": "2022-08-29T23:52:05.782788Z"
    },
    "papermill": {
     "duration": 0.063994,
     "end_time": "2022-08-29T23:58:37.038034",
     "exception": false,
     "start_time": "2022-08-29T23:58:36.974040",
     "status": "completed"
    },
    "tags": []
   },
   "outputs": [
    {
     "name": "stdout",
     "output_type": "stream",
     "text": [
      "/kaggle/input/titanic/train.csv\n",
      "/kaggle/input/titanic/test.csv\n",
      "/kaggle/input/titanic/gender_submission.csv\n"
     ]
    }
   ],
   "source": [
    "# This Python 3 environment comes with many helpful analytics libraries installed\n",
    "# It is defined by the kaggle/python Docker image: https://github.com/kaggle/docker-python\n",
    "# For example, here's several helpful packages to load\n",
    "\n",
    "import numpy as np # linear algebra\n",
    "import pandas as pd # data processing, CSV file I/O (e.g. pd.read_csv)\n",
    "\n",
    "# Input data files are available in the read-only \"../input/\" directory\n",
    "# For example, running this (by clicking run or pressing Shift+Enter) will list all files under the input directory\n",
    "\n",
    "import os\n",
    "for dirname, _, filenames in os.walk('/kaggle/input'):\n",
    "    for filename in filenames:\n",
    "        print(os.path.join(dirname, filename))\n",
    "\n",
    "# You can write up to 20GB to the current directory (/kaggle/working/) that gets preserved as output when you create a version using \"Save & Run All\" \n",
    "# You can also write temporary files to /kaggle/temp/, but they won't be saved outside of the current session"
   ]
  },
  {
   "cell_type": "markdown",
   "id": "2d296f9d",
   "metadata": {
    "papermill": {
     "duration": 0.047971,
     "end_time": "2022-08-29T23:58:37.129881",
     "exception": false,
     "start_time": "2022-08-29T23:58:37.081910",
     "status": "completed"
    },
    "tags": []
   },
   "source": [
    "### import necessary libraries"
   ]
  },
  {
   "cell_type": "code",
   "execution_count": 2,
   "id": "f06d570e",
   "metadata": {
    "execution": {
     "iopub.execute_input": "2022-08-29T23:58:37.224204Z",
     "iopub.status.busy": "2022-08-29T23:58:37.223480Z",
     "iopub.status.idle": "2022-08-29T23:58:38.672990Z",
     "shell.execute_reply": "2022-08-29T23:58:38.672348Z",
     "shell.execute_reply.started": "2022-08-29T23:52:08.964136Z"
    },
    "papermill": {
     "duration": 1.495791,
     "end_time": "2022-08-29T23:58:38.673186",
     "exception": false,
     "start_time": "2022-08-29T23:58:37.177395",
     "status": "completed"
    },
    "tags": []
   },
   "outputs": [],
   "source": [
    "# Import libraries necessary for this project\n",
    "import matplotlib.pyplot as plt\n",
    "from IPython.display import display\n",
    "import random\n",
    "random.seed(42)\n",
    "import seaborn as sns\n",
    "%matplotlib inline\n",
    "from sklearn.svm import SVC\n",
    "from sklearn.metrics import accuracy_score\n"
   ]
  },
  {
   "cell_type": "code",
   "execution_count": 3,
   "id": "9b261951",
   "metadata": {
    "execution": {
     "iopub.execute_input": "2022-08-29T23:58:38.772398Z",
     "iopub.status.busy": "2022-08-29T23:58:38.771616Z",
     "iopub.status.idle": "2022-08-29T23:58:38.801696Z",
     "shell.execute_reply": "2022-08-29T23:58:38.801069Z",
     "shell.execute_reply.started": "2022-08-29T23:52:12.863253Z"
    },
    "papermill": {
     "duration": 0.081425,
     "end_time": "2022-08-29T23:58:38.801876",
     "exception": false,
     "start_time": "2022-08-29T23:58:38.720451",
     "status": "completed"
    },
    "tags": []
   },
   "outputs": [],
   "source": [
    "# Load the dataset\n",
    "train = pd.read_csv(\"../input/titanic/train.csv\")\n",
    "test = pd.read_csv(\"../input/titanic/test.csv\")"
   ]
  },
  {
   "cell_type": "code",
   "execution_count": 4,
   "id": "3092e824",
   "metadata": {
    "execution": {
     "iopub.execute_input": "2022-08-29T23:58:38.899254Z",
     "iopub.status.busy": "2022-08-29T23:58:38.898512Z",
     "iopub.status.idle": "2022-08-29T23:58:38.917220Z",
     "shell.execute_reply": "2022-08-29T23:58:38.917705Z",
     "shell.execute_reply.started": "2022-08-29T23:52:15.408870Z"
    },
    "papermill": {
     "duration": 0.071823,
     "end_time": "2022-08-29T23:58:38.917908",
     "exception": false,
     "start_time": "2022-08-29T23:58:38.846085",
     "status": "completed"
    },
    "tags": []
   },
   "outputs": [
    {
     "data": {
      "text/html": [
       "<div>\n",
       "<style scoped>\n",
       "    .dataframe tbody tr th:only-of-type {\n",
       "        vertical-align: middle;\n",
       "    }\n",
       "\n",
       "    .dataframe tbody tr th {\n",
       "        vertical-align: top;\n",
       "    }\n",
       "\n",
       "    .dataframe thead th {\n",
       "        text-align: right;\n",
       "    }\n",
       "</style>\n",
       "<table border=\"1\" class=\"dataframe\">\n",
       "  <thead>\n",
       "    <tr style=\"text-align: right;\">\n",
       "      <th></th>\n",
       "      <th>PassengerId</th>\n",
       "      <th>Survived</th>\n",
       "      <th>Pclass</th>\n",
       "      <th>Name</th>\n",
       "      <th>Sex</th>\n",
       "      <th>Age</th>\n",
       "      <th>SibSp</th>\n",
       "      <th>Parch</th>\n",
       "      <th>Ticket</th>\n",
       "      <th>Fare</th>\n",
       "      <th>Cabin</th>\n",
       "      <th>Embarked</th>\n",
       "    </tr>\n",
       "  </thead>\n",
       "  <tbody>\n",
       "    <tr>\n",
       "      <th>0</th>\n",
       "      <td>1</td>\n",
       "      <td>0</td>\n",
       "      <td>3</td>\n",
       "      <td>Braund, Mr. Owen Harris</td>\n",
       "      <td>male</td>\n",
       "      <td>22.0</td>\n",
       "      <td>1</td>\n",
       "      <td>0</td>\n",
       "      <td>A/5 21171</td>\n",
       "      <td>7.2500</td>\n",
       "      <td>NaN</td>\n",
       "      <td>S</td>\n",
       "    </tr>\n",
       "    <tr>\n",
       "      <th>1</th>\n",
       "      <td>2</td>\n",
       "      <td>1</td>\n",
       "      <td>1</td>\n",
       "      <td>Cumings, Mrs. John Bradley (Florence Briggs Th...</td>\n",
       "      <td>female</td>\n",
       "      <td>38.0</td>\n",
       "      <td>1</td>\n",
       "      <td>0</td>\n",
       "      <td>PC 17599</td>\n",
       "      <td>71.2833</td>\n",
       "      <td>C85</td>\n",
       "      <td>C</td>\n",
       "    </tr>\n",
       "    <tr>\n",
       "      <th>2</th>\n",
       "      <td>3</td>\n",
       "      <td>1</td>\n",
       "      <td>3</td>\n",
       "      <td>Heikkinen, Miss. Laina</td>\n",
       "      <td>female</td>\n",
       "      <td>26.0</td>\n",
       "      <td>0</td>\n",
       "      <td>0</td>\n",
       "      <td>STON/O2. 3101282</td>\n",
       "      <td>7.9250</td>\n",
       "      <td>NaN</td>\n",
       "      <td>S</td>\n",
       "    </tr>\n",
       "    <tr>\n",
       "      <th>3</th>\n",
       "      <td>4</td>\n",
       "      <td>1</td>\n",
       "      <td>1</td>\n",
       "      <td>Futrelle, Mrs. Jacques Heath (Lily May Peel)</td>\n",
       "      <td>female</td>\n",
       "      <td>35.0</td>\n",
       "      <td>1</td>\n",
       "      <td>0</td>\n",
       "      <td>113803</td>\n",
       "      <td>53.1000</td>\n",
       "      <td>C123</td>\n",
       "      <td>S</td>\n",
       "    </tr>\n",
       "    <tr>\n",
       "      <th>4</th>\n",
       "      <td>5</td>\n",
       "      <td>0</td>\n",
       "      <td>3</td>\n",
       "      <td>Allen, Mr. William Henry</td>\n",
       "      <td>male</td>\n",
       "      <td>35.0</td>\n",
       "      <td>0</td>\n",
       "      <td>0</td>\n",
       "      <td>373450</td>\n",
       "      <td>8.0500</td>\n",
       "      <td>NaN</td>\n",
       "      <td>S</td>\n",
       "    </tr>\n",
       "  </tbody>\n",
       "</table>\n",
       "</div>"
      ],
      "text/plain": [
       "   PassengerId  Survived  Pclass  \\\n",
       "0            1         0       3   \n",
       "1            2         1       1   \n",
       "2            3         1       3   \n",
       "3            4         1       1   \n",
       "4            5         0       3   \n",
       "\n",
       "                                                Name     Sex   Age  SibSp  \\\n",
       "0                            Braund, Mr. Owen Harris    male  22.0      1   \n",
       "1  Cumings, Mrs. John Bradley (Florence Briggs Th...  female  38.0      1   \n",
       "2                             Heikkinen, Miss. Laina  female  26.0      0   \n",
       "3       Futrelle, Mrs. Jacques Heath (Lily May Peel)  female  35.0      1   \n",
       "4                           Allen, Mr. William Henry    male  35.0      0   \n",
       "\n",
       "   Parch            Ticket     Fare Cabin Embarked  \n",
       "0      0         A/5 21171   7.2500   NaN        S  \n",
       "1      0          PC 17599  71.2833   C85        C  \n",
       "2      0  STON/O2. 3101282   7.9250   NaN        S  \n",
       "3      0            113803  53.1000  C123        S  \n",
       "4      0            373450   8.0500   NaN        S  "
      ]
     },
     "execution_count": 4,
     "metadata": {},
     "output_type": "execute_result"
    }
   ],
   "source": [
    "# Print the first few entries of the RMS Titanic data\n",
    "train.head()"
   ]
  },
  {
   "cell_type": "code",
   "execution_count": 5,
   "id": "a29fcc31",
   "metadata": {
    "execution": {
     "iopub.execute_input": "2022-08-29T23:58:39.021772Z",
     "iopub.status.busy": "2022-08-29T23:58:39.021048Z",
     "iopub.status.idle": "2022-08-29T23:58:39.025480Z",
     "shell.execute_reply": "2022-08-29T23:58:39.024700Z",
     "shell.execute_reply.started": "2022-08-29T23:52:17.978148Z"
    },
    "papermill": {
     "duration": 0.063839,
     "end_time": "2022-08-29T23:58:39.025643",
     "exception": false,
     "start_time": "2022-08-29T23:58:38.961804",
     "status": "completed"
    },
    "tags": []
   },
   "outputs": [
    {
     "data": {
      "text/html": [
       "<div>\n",
       "<style scoped>\n",
       "    .dataframe tbody tr th:only-of-type {\n",
       "        vertical-align: middle;\n",
       "    }\n",
       "\n",
       "    .dataframe tbody tr th {\n",
       "        vertical-align: top;\n",
       "    }\n",
       "\n",
       "    .dataframe thead th {\n",
       "        text-align: right;\n",
       "    }\n",
       "</style>\n",
       "<table border=\"1\" class=\"dataframe\">\n",
       "  <thead>\n",
       "    <tr style=\"text-align: right;\">\n",
       "      <th></th>\n",
       "      <th>PassengerId</th>\n",
       "      <th>Pclass</th>\n",
       "      <th>Name</th>\n",
       "      <th>Sex</th>\n",
       "      <th>Age</th>\n",
       "      <th>SibSp</th>\n",
       "      <th>Parch</th>\n",
       "      <th>Ticket</th>\n",
       "      <th>Fare</th>\n",
       "      <th>Cabin</th>\n",
       "      <th>Embarked</th>\n",
       "    </tr>\n",
       "  </thead>\n",
       "  <tbody>\n",
       "    <tr>\n",
       "      <th>0</th>\n",
       "      <td>892</td>\n",
       "      <td>3</td>\n",
       "      <td>Kelly, Mr. James</td>\n",
       "      <td>male</td>\n",
       "      <td>34.5</td>\n",
       "      <td>0</td>\n",
       "      <td>0</td>\n",
       "      <td>330911</td>\n",
       "      <td>7.8292</td>\n",
       "      <td>NaN</td>\n",
       "      <td>Q</td>\n",
       "    </tr>\n",
       "    <tr>\n",
       "      <th>1</th>\n",
       "      <td>893</td>\n",
       "      <td>3</td>\n",
       "      <td>Wilkes, Mrs. James (Ellen Needs)</td>\n",
       "      <td>female</td>\n",
       "      <td>47.0</td>\n",
       "      <td>1</td>\n",
       "      <td>0</td>\n",
       "      <td>363272</td>\n",
       "      <td>7.0000</td>\n",
       "      <td>NaN</td>\n",
       "      <td>S</td>\n",
       "    </tr>\n",
       "    <tr>\n",
       "      <th>2</th>\n",
       "      <td>894</td>\n",
       "      <td>2</td>\n",
       "      <td>Myles, Mr. Thomas Francis</td>\n",
       "      <td>male</td>\n",
       "      <td>62.0</td>\n",
       "      <td>0</td>\n",
       "      <td>0</td>\n",
       "      <td>240276</td>\n",
       "      <td>9.6875</td>\n",
       "      <td>NaN</td>\n",
       "      <td>Q</td>\n",
       "    </tr>\n",
       "    <tr>\n",
       "      <th>3</th>\n",
       "      <td>895</td>\n",
       "      <td>3</td>\n",
       "      <td>Wirz, Mr. Albert</td>\n",
       "      <td>male</td>\n",
       "      <td>27.0</td>\n",
       "      <td>0</td>\n",
       "      <td>0</td>\n",
       "      <td>315154</td>\n",
       "      <td>8.6625</td>\n",
       "      <td>NaN</td>\n",
       "      <td>S</td>\n",
       "    </tr>\n",
       "    <tr>\n",
       "      <th>4</th>\n",
       "      <td>896</td>\n",
       "      <td>3</td>\n",
       "      <td>Hirvonen, Mrs. Alexander (Helga E Lindqvist)</td>\n",
       "      <td>female</td>\n",
       "      <td>22.0</td>\n",
       "      <td>1</td>\n",
       "      <td>1</td>\n",
       "      <td>3101298</td>\n",
       "      <td>12.2875</td>\n",
       "      <td>NaN</td>\n",
       "      <td>S</td>\n",
       "    </tr>\n",
       "  </tbody>\n",
       "</table>\n",
       "</div>"
      ],
      "text/plain": [
       "   PassengerId  Pclass                                          Name     Sex  \\\n",
       "0          892       3                              Kelly, Mr. James    male   \n",
       "1          893       3              Wilkes, Mrs. James (Ellen Needs)  female   \n",
       "2          894       2                     Myles, Mr. Thomas Francis    male   \n",
       "3          895       3                              Wirz, Mr. Albert    male   \n",
       "4          896       3  Hirvonen, Mrs. Alexander (Helga E Lindqvist)  female   \n",
       "\n",
       "    Age  SibSp  Parch   Ticket     Fare Cabin Embarked  \n",
       "0  34.5      0      0   330911   7.8292   NaN        Q  \n",
       "1  47.0      1      0   363272   7.0000   NaN        S  \n",
       "2  62.0      0      0   240276   9.6875   NaN        Q  \n",
       "3  27.0      0      0   315154   8.6625   NaN        S  \n",
       "4  22.0      1      1  3101298  12.2875   NaN        S  "
      ]
     },
     "execution_count": 5,
     "metadata": {},
     "output_type": "execute_result"
    }
   ],
   "source": [
    "# Print test data \n",
    "test.head()"
   ]
  },
  {
   "cell_type": "markdown",
   "id": "aef007b2",
   "metadata": {
    "papermill": {
     "duration": 0.043523,
     "end_time": "2022-08-29T23:58:39.112883",
     "exception": false,
     "start_time": "2022-08-29T23:58:39.069360",
     "status": "completed"
    },
    "tags": []
   },
   "source": [
    "## display some information about data "
   ]
  },
  {
   "cell_type": "code",
   "execution_count": 6,
   "id": "44612705",
   "metadata": {
    "execution": {
     "iopub.execute_input": "2022-08-29T23:58:39.226793Z",
     "iopub.status.busy": "2022-08-29T23:58:39.226004Z",
     "iopub.status.idle": "2022-08-29T23:58:39.228905Z",
     "shell.execute_reply": "2022-08-29T23:58:39.229479Z",
     "shell.execute_reply.started": "2022-08-29T23:52:22.659630Z"
    },
    "papermill": {
     "duration": 0.073138,
     "end_time": "2022-08-29T23:58:39.229673",
     "exception": false,
     "start_time": "2022-08-29T23:58:39.156535",
     "status": "completed"
    },
    "tags": []
   },
   "outputs": [
    {
     "name": "stdout",
     "output_type": "stream",
     "text": [
      "<class 'pandas.core.frame.DataFrame'>\n",
      "RangeIndex: 891 entries, 0 to 890\n",
      "Data columns (total 12 columns):\n",
      " #   Column       Non-Null Count  Dtype  \n",
      "---  ------       --------------  -----  \n",
      " 0   PassengerId  891 non-null    int64  \n",
      " 1   Survived     891 non-null    int64  \n",
      " 2   Pclass       891 non-null    int64  \n",
      " 3   Name         891 non-null    object \n",
      " 4   Sex          891 non-null    object \n",
      " 5   Age          714 non-null    float64\n",
      " 6   SibSp        891 non-null    int64  \n",
      " 7   Parch        891 non-null    int64  \n",
      " 8   Ticket       891 non-null    object \n",
      " 9   Fare         891 non-null    float64\n",
      " 10  Cabin        204 non-null    object \n",
      " 11  Embarked     889 non-null    object \n",
      "dtypes: float64(2), int64(5), object(5)\n",
      "memory usage: 83.7+ KB\n"
     ]
    }
   ],
   "source": [
    "# display some information about data\n",
    "train.info()"
   ]
  },
  {
   "cell_type": "code",
   "execution_count": 7,
   "id": "d0ecc9ef",
   "metadata": {
    "execution": {
     "iopub.execute_input": "2022-08-29T23:58:39.327050Z",
     "iopub.status.busy": "2022-08-29T23:58:39.326268Z",
     "iopub.status.idle": "2022-08-29T23:58:39.359603Z",
     "shell.execute_reply": "2022-08-29T23:58:39.358900Z",
     "shell.execute_reply.started": "2022-08-29T23:52:25.594683Z"
    },
    "papermill": {
     "duration": 0.08567,
     "end_time": "2022-08-29T23:58:39.359761",
     "exception": false,
     "start_time": "2022-08-29T23:58:39.274091",
     "status": "completed"
    },
    "tags": []
   },
   "outputs": [
    {
     "data": {
      "text/html": [
       "<div>\n",
       "<style scoped>\n",
       "    .dataframe tbody tr th:only-of-type {\n",
       "        vertical-align: middle;\n",
       "    }\n",
       "\n",
       "    .dataframe tbody tr th {\n",
       "        vertical-align: top;\n",
       "    }\n",
       "\n",
       "    .dataframe thead th {\n",
       "        text-align: right;\n",
       "    }\n",
       "</style>\n",
       "<table border=\"1\" class=\"dataframe\">\n",
       "  <thead>\n",
       "    <tr style=\"text-align: right;\">\n",
       "      <th></th>\n",
       "      <th>PassengerId</th>\n",
       "      <th>Survived</th>\n",
       "      <th>Pclass</th>\n",
       "      <th>Age</th>\n",
       "      <th>SibSp</th>\n",
       "      <th>Parch</th>\n",
       "      <th>Fare</th>\n",
       "    </tr>\n",
       "  </thead>\n",
       "  <tbody>\n",
       "    <tr>\n",
       "      <th>count</th>\n",
       "      <td>891.0</td>\n",
       "      <td>891.0</td>\n",
       "      <td>891.0</td>\n",
       "      <td>714.0</td>\n",
       "      <td>891.0</td>\n",
       "      <td>891.0</td>\n",
       "      <td>891.0</td>\n",
       "    </tr>\n",
       "    <tr>\n",
       "      <th>mean</th>\n",
       "      <td>446.0</td>\n",
       "      <td>0.4</td>\n",
       "      <td>2.3</td>\n",
       "      <td>29.7</td>\n",
       "      <td>0.5</td>\n",
       "      <td>0.4</td>\n",
       "      <td>32.2</td>\n",
       "    </tr>\n",
       "    <tr>\n",
       "      <th>std</th>\n",
       "      <td>257.4</td>\n",
       "      <td>0.5</td>\n",
       "      <td>0.8</td>\n",
       "      <td>14.5</td>\n",
       "      <td>1.1</td>\n",
       "      <td>0.8</td>\n",
       "      <td>49.7</td>\n",
       "    </tr>\n",
       "    <tr>\n",
       "      <th>min</th>\n",
       "      <td>1.0</td>\n",
       "      <td>0.0</td>\n",
       "      <td>1.0</td>\n",
       "      <td>0.4</td>\n",
       "      <td>0.0</td>\n",
       "      <td>0.0</td>\n",
       "      <td>0.0</td>\n",
       "    </tr>\n",
       "    <tr>\n",
       "      <th>25%</th>\n",
       "      <td>223.5</td>\n",
       "      <td>0.0</td>\n",
       "      <td>2.0</td>\n",
       "      <td>20.1</td>\n",
       "      <td>0.0</td>\n",
       "      <td>0.0</td>\n",
       "      <td>7.9</td>\n",
       "    </tr>\n",
       "    <tr>\n",
       "      <th>50%</th>\n",
       "      <td>446.0</td>\n",
       "      <td>0.0</td>\n",
       "      <td>3.0</td>\n",
       "      <td>28.0</td>\n",
       "      <td>0.0</td>\n",
       "      <td>0.0</td>\n",
       "      <td>14.5</td>\n",
       "    </tr>\n",
       "    <tr>\n",
       "      <th>75%</th>\n",
       "      <td>668.5</td>\n",
       "      <td>1.0</td>\n",
       "      <td>3.0</td>\n",
       "      <td>38.0</td>\n",
       "      <td>1.0</td>\n",
       "      <td>0.0</td>\n",
       "      <td>31.0</td>\n",
       "    </tr>\n",
       "    <tr>\n",
       "      <th>max</th>\n",
       "      <td>891.0</td>\n",
       "      <td>1.0</td>\n",
       "      <td>3.0</td>\n",
       "      <td>80.0</td>\n",
       "      <td>8.0</td>\n",
       "      <td>6.0</td>\n",
       "      <td>512.3</td>\n",
       "    </tr>\n",
       "  </tbody>\n",
       "</table>\n",
       "</div>"
      ],
      "text/plain": [
       "       PassengerId  Survived  Pclass    Age  SibSp  Parch   Fare\n",
       "count        891.0     891.0   891.0  714.0  891.0  891.0  891.0\n",
       "mean         446.0       0.4     2.3   29.7    0.5    0.4   32.2\n",
       "std          257.4       0.5     0.8   14.5    1.1    0.8   49.7\n",
       "min            1.0       0.0     1.0    0.4    0.0    0.0    0.0\n",
       "25%          223.5       0.0     2.0   20.1    0.0    0.0    7.9\n",
       "50%          446.0       0.0     3.0   28.0    0.0    0.0   14.5\n",
       "75%          668.5       1.0     3.0   38.0    1.0    0.0   31.0\n",
       "max          891.0       1.0     3.0   80.0    8.0    6.0  512.3"
      ]
     },
     "execution_count": 7,
     "metadata": {},
     "output_type": "execute_result"
    }
   ],
   "source": [
    "# display some statistics about data\n",
    "train.describe().round(1)"
   ]
  },
  {
   "cell_type": "markdown",
   "id": "ccde978c",
   "metadata": {
    "papermill": {
     "duration": 0.046052,
     "end_time": "2022-08-29T23:58:39.451047",
     "exception": false,
     "start_time": "2022-08-29T23:58:39.404995",
     "status": "completed"
    },
    "tags": []
   },
   "source": [
    "## Data Cleaning"
   ]
  },
  {
   "cell_type": "code",
   "execution_count": 8,
   "id": "e4909ef2",
   "metadata": {
    "execution": {
     "iopub.execute_input": "2022-08-29T23:58:39.549790Z",
     "iopub.status.busy": "2022-08-29T23:58:39.548754Z",
     "iopub.status.idle": "2022-08-29T23:58:39.553010Z",
     "shell.execute_reply": "2022-08-29T23:58:39.552465Z",
     "shell.execute_reply.started": "2022-08-29T23:52:28.520869Z"
    },
    "papermill": {
     "duration": 0.057529,
     "end_time": "2022-08-29T23:58:39.553180",
     "exception": false,
     "start_time": "2022-08-29T23:58:39.495651",
     "status": "completed"
    },
    "tags": []
   },
   "outputs": [
    {
     "data": {
      "text/plain": [
       "PassengerId      0\n",
       "Survived         0\n",
       "Pclass           0\n",
       "Name             0\n",
       "Sex              0\n",
       "Age            177\n",
       "SibSp            0\n",
       "Parch            0\n",
       "Ticket           0\n",
       "Fare             0\n",
       "Cabin          687\n",
       "Embarked         2\n",
       "dtype: int64"
      ]
     },
     "execution_count": 8,
     "metadata": {},
     "output_type": "execute_result"
    }
   ],
   "source": [
    "#display null values\n",
    "train.isna().sum()"
   ]
  },
  {
   "cell_type": "code",
   "execution_count": 9,
   "id": "e25771dd",
   "metadata": {
    "execution": {
     "iopub.execute_input": "2022-08-29T23:58:39.653410Z",
     "iopub.status.busy": "2022-08-29T23:58:39.650847Z",
     "iopub.status.idle": "2022-08-29T23:58:39.657602Z",
     "shell.execute_reply": "2022-08-29T23:58:39.656915Z",
     "shell.execute_reply.started": "2022-08-29T23:52:30.870580Z"
    },
    "papermill": {
     "duration": 0.059182,
     "end_time": "2022-08-29T23:58:39.657758",
     "exception": false,
     "start_time": "2022-08-29T23:58:39.598576",
     "status": "completed"
    },
    "tags": []
   },
   "outputs": [
    {
     "data": {
      "text/plain": [
       "PassengerId      0\n",
       "Pclass           0\n",
       "Name             0\n",
       "Sex              0\n",
       "Age             86\n",
       "SibSp            0\n",
       "Parch            0\n",
       "Ticket           0\n",
       "Fare             1\n",
       "Cabin          327\n",
       "Embarked         0\n",
       "dtype: int64"
      ]
     },
     "execution_count": 9,
     "metadata": {},
     "output_type": "execute_result"
    }
   ],
   "source": [
    "#display null values\n",
    "test.isna().sum()"
   ]
  },
  {
   "cell_type": "code",
   "execution_count": 10,
   "id": "5fd8bdfd",
   "metadata": {
    "execution": {
     "iopub.execute_input": "2022-08-29T23:58:39.760859Z",
     "iopub.status.busy": "2022-08-29T23:58:39.756101Z",
     "iopub.status.idle": "2022-08-29T23:58:40.253054Z",
     "shell.execute_reply": "2022-08-29T23:58:40.252463Z",
     "shell.execute_reply.started": "2022-08-29T23:52:33.339722Z"
    },
    "papermill": {
     "duration": 0.548979,
     "end_time": "2022-08-29T23:58:40.253271",
     "exception": false,
     "start_time": "2022-08-29T23:58:39.704292",
     "status": "completed"
    },
    "tags": []
   },
   "outputs": [
    {
     "data": {
      "text/plain": [
       "<AxesSubplot:>"
      ]
     },
     "execution_count": 10,
     "metadata": {},
     "output_type": "execute_result"
    },
    {
     "data": {
      "image/png": "[encoded data removed]",
      "text/plain": [
       "<Figure size 432x288 with 2 Axes>"
      ]
     },
     "metadata": {
      "needs_background": "light"
     },
     "output_type": "display_data"
    }
   ],
   "source": [
    "#chart to display null values\n",
    "sns.heatmap(train.isna())"
   ]
  },
  {
   "cell_type": "code",
   "execution_count": 11,
   "id": "911d226b",
   "metadata": {
    "execution": {
     "iopub.execute_input": "2022-08-29T23:58:40.354766Z",
     "iopub.status.busy": "2022-08-29T23:58:40.353698Z",
     "iopub.status.idle": "2022-08-29T23:58:40.788170Z",
     "shell.execute_reply": "2022-08-29T23:58:40.787544Z",
     "shell.execute_reply.started": "2022-08-29T23:52:36.537802Z"
    },
    "papermill": {
     "duration": 0.487441,
     "end_time": "2022-08-29T23:58:40.788341",
     "exception": false,
     "start_time": "2022-08-29T23:58:40.300900",
     "status": "completed"
    },
    "tags": []
   },
   "outputs": [
    {
     "data": {
      "text/plain": [
       "<AxesSubplot:>"
      ]
     },
     "execution_count": 11,
     "metadata": {},
     "output_type": "execute_result"
    },
    {
     "data": {
      "image/png": "[encoded data removed]",
      "text/plain": [
       "<Figure size 432x288 with 2 Axes>"
      ]
     },
     "metadata": {
      "needs_background": "light"
     },
     "output_type": "display_data"
    }
   ],
   "source": [
    "#chart to display null values\n",
    "sns.heatmap(test.isna())"
   ]
  },
  {
   "cell_type": "code",
   "execution_count": 12,
   "id": "95f3db2c",
   "metadata": {
    "execution": {
     "iopub.execute_input": "2022-08-29T23:58:40.890077Z",
     "iopub.status.busy": "2022-08-29T23:58:40.889109Z",
     "iopub.status.idle": "2022-08-29T23:58:40.893929Z",
     "shell.execute_reply": "2022-08-29T23:58:40.894413Z",
     "shell.execute_reply.started": "2022-08-29T23:52:43.461953Z"
    },
    "papermill": {
     "duration": 0.056882,
     "end_time": "2022-08-29T23:58:40.894617",
     "exception": false,
     "start_time": "2022-08-29T23:58:40.837735",
     "status": "completed"
    },
    "tags": []
   },
   "outputs": [],
   "source": [
    "#fill nulls\n",
    "train['Age'] = train['Age'].fillna(train['Age'].mean())"
   ]
  },
  {
   "cell_type": "code",
   "execution_count": 13,
   "id": "aa06131b",
   "metadata": {
    "execution": {
     "iopub.execute_input": "2022-08-29T23:58:40.996161Z",
     "iopub.status.busy": "2022-08-29T23:58:40.995146Z",
     "iopub.status.idle": "2022-08-29T23:58:41.445078Z",
     "shell.execute_reply": "2022-08-29T23:58:41.445729Z",
     "shell.execute_reply.started": "2022-08-29T23:52:47.901151Z"
    },
    "papermill": {
     "duration": 0.502674,
     "end_time": "2022-08-29T23:58:41.445911",
     "exception": false,
     "start_time": "2022-08-29T23:58:40.943237",
     "status": "completed"
    },
    "tags": []
   },
   "outputs": [
    {
     "data": {
      "text/plain": [
       "<AxesSubplot:>"
      ]
     },
     "execution_count": 13,
     "metadata": {},
     "output_type": "execute_result"
    },
    {
     "data": {
      "image/png": "[encoded data removed]",
      "text/plain": [
       "<Figure size 432x288 with 2 Axes>"
      ]
     },
     "metadata": {
      "needs_background": "light"
     },
     "output_type": "display_data"
    }
   ],
   "source": [
    "#chart to display null values\n",
    "sns.heatmap(train.isna())"
   ]
  },
  {
   "cell_type": "code",
   "execution_count": 14,
   "id": "1d20fb74",
   "metadata": {
    "execution": {
     "iopub.execute_input": "2022-08-29T23:58:41.549637Z",
     "iopub.status.busy": "2022-08-29T23:58:41.548672Z",
     "iopub.status.idle": "2022-08-29T23:58:41.553286Z",
     "shell.execute_reply": "2022-08-29T23:58:41.553749Z",
     "shell.execute_reply.started": "2022-08-29T23:52:51.346959Z"
    },
    "papermill": {
     "duration": 0.057843,
     "end_time": "2022-08-29T23:58:41.553934",
     "exception": false,
     "start_time": "2022-08-29T23:58:41.496091",
     "status": "completed"
    },
    "tags": []
   },
   "outputs": [],
   "source": [
    "#fill nulls\n",
    "test['Age'] = test['Age'].fillna(test['Age'].mean())"
   ]
  },
  {
   "cell_type": "code",
   "execution_count": 15,
   "id": "bd1196e4",
   "metadata": {
    "execution": {
     "iopub.execute_input": "2022-08-29T23:58:41.656027Z",
     "iopub.status.busy": "2022-08-29T23:58:41.655084Z",
     "iopub.status.idle": "2022-08-29T23:58:42.094015Z",
     "shell.execute_reply": "2022-08-29T23:58:42.093447Z",
     "shell.execute_reply.started": "2022-08-29T23:52:53.738901Z"
    },
    "papermill": {
     "duration": 0.491297,
     "end_time": "2022-08-29T23:58:42.094184",
     "exception": false,
     "start_time": "2022-08-29T23:58:41.602887",
     "status": "completed"
    },
    "tags": []
   },
   "outputs": [
    {
     "data": {
      "text/plain": [
       "<AxesSubplot:>"
      ]
     },
     "execution_count": 15,
     "metadata": {},
     "output_type": "execute_result"
    },
    {
     "data": {
      "image/png": "[encoded data removed]",
      "text/plain": [
       "<Figure size 432x288 with 2 Axes>"
      ]
     },
     "metadata": {
      "needs_background": "light"
     },
     "output_type": "display_data"
    }
   ],
   "source": [
    "#chart to display null values\n",
    "sns.heatmap(test.isna())"
   ]
  },
  {
   "cell_type": "markdown",
   "id": "5a5a495d",
   "metadata": {
    "papermill": {
     "duration": 0.05027,
     "end_time": "2022-08-29T23:58:42.196085",
     "exception": false,
     "start_time": "2022-08-29T23:58:42.145815",
     "status": "completed"
    },
    "tags": []
   },
   "source": [
    "## Removing Unused columns"
   ]
  },
  {
   "cell_type": "code",
   "execution_count": 16,
   "id": "a180e384",
   "metadata": {
    "execution": {
     "iopub.execute_input": "2022-08-29T23:58:42.310010Z",
     "iopub.status.busy": "2022-08-29T23:58:42.308983Z",
     "iopub.status.idle": "2022-08-29T23:58:42.311827Z",
     "shell.execute_reply": "2022-08-29T23:58:42.312358Z",
     "shell.execute_reply.started": "2022-08-29T23:52:57.137403Z"
    },
    "papermill": {
     "duration": 0.062534,
     "end_time": "2022-08-29T23:58:42.312564",
     "exception": false,
     "start_time": "2022-08-29T23:58:42.250030",
     "status": "completed"
    },
    "tags": []
   },
   "outputs": [],
   "source": [
    "#delete unused columns\n",
    "train.drop('Cabin', axis = 1 ,  inplace = True)\n",
    "test.drop('Cabin', axis = 1 , inplace = True)"
   ]
  },
  {
   "cell_type": "code",
   "execution_count": 17,
   "id": "a73d617b",
   "metadata": {
    "execution": {
     "iopub.execute_input": "2022-08-29T23:58:42.423620Z",
     "iopub.status.busy": "2022-08-29T23:58:42.422520Z",
     "iopub.status.idle": "2022-08-29T23:58:42.436244Z",
     "shell.execute_reply": "2022-08-29T23:58:42.436762Z",
     "shell.execute_reply.started": "2022-08-29T23:52:59.657231Z"
    },
    "papermill": {
     "duration": 0.073596,
     "end_time": "2022-08-29T23:58:42.436960",
     "exception": false,
     "start_time": "2022-08-29T23:58:42.363364",
     "status": "completed"
    },
    "tags": []
   },
   "outputs": [
    {
     "data": {
      "text/html": [
       "<div>\n",
       "<style scoped>\n",
       "    .dataframe tbody tr th:only-of-type {\n",
       "        vertical-align: middle;\n",
       "    }\n",
       "\n",
       "    .dataframe tbody tr th {\n",
       "        vertical-align: top;\n",
       "    }\n",
       "\n",
       "    .dataframe thead th {\n",
       "        text-align: right;\n",
       "    }\n",
       "</style>\n",
       "<table border=\"1\" class=\"dataframe\">\n",
       "  <thead>\n",
       "    <tr style=\"text-align: right;\">\n",
       "      <th></th>\n",
       "      <th>PassengerId</th>\n",
       "      <th>Survived</th>\n",
       "      <th>Pclass</th>\n",
       "      <th>Name</th>\n",
       "      <th>Sex</th>\n",
       "      <th>Age</th>\n",
       "      <th>SibSp</th>\n",
       "      <th>Parch</th>\n",
       "      <th>Ticket</th>\n",
       "      <th>Fare</th>\n",
       "      <th>Embarked</th>\n",
       "    </tr>\n",
       "  </thead>\n",
       "  <tbody>\n",
       "    <tr>\n",
       "      <th>0</th>\n",
       "      <td>1</td>\n",
       "      <td>0</td>\n",
       "      <td>3</td>\n",
       "      <td>Braund, Mr. Owen Harris</td>\n",
       "      <td>male</td>\n",
       "      <td>22.0</td>\n",
       "      <td>1</td>\n",
       "      <td>0</td>\n",
       "      <td>A/5 21171</td>\n",
       "      <td>7.2500</td>\n",
       "      <td>S</td>\n",
       "    </tr>\n",
       "    <tr>\n",
       "      <th>1</th>\n",
       "      <td>2</td>\n",
       "      <td>1</td>\n",
       "      <td>1</td>\n",
       "      <td>Cumings, Mrs. John Bradley (Florence Briggs Th...</td>\n",
       "      <td>female</td>\n",
       "      <td>38.0</td>\n",
       "      <td>1</td>\n",
       "      <td>0</td>\n",
       "      <td>PC 17599</td>\n",
       "      <td>71.2833</td>\n",
       "      <td>C</td>\n",
       "    </tr>\n",
       "    <tr>\n",
       "      <th>2</th>\n",
       "      <td>3</td>\n",
       "      <td>1</td>\n",
       "      <td>3</td>\n",
       "      <td>Heikkinen, Miss. Laina</td>\n",
       "      <td>female</td>\n",
       "      <td>26.0</td>\n",
       "      <td>0</td>\n",
       "      <td>0</td>\n",
       "      <td>STON/O2. 3101282</td>\n",
       "      <td>7.9250</td>\n",
       "      <td>S</td>\n",
       "    </tr>\n",
       "    <tr>\n",
       "      <th>3</th>\n",
       "      <td>4</td>\n",
       "      <td>1</td>\n",
       "      <td>1</td>\n",
       "      <td>Futrelle, Mrs. Jacques Heath (Lily May Peel)</td>\n",
       "      <td>female</td>\n",
       "      <td>35.0</td>\n",
       "      <td>1</td>\n",
       "      <td>0</td>\n",
       "      <td>113803</td>\n",
       "      <td>53.1000</td>\n",
       "      <td>S</td>\n",
       "    </tr>\n",
       "    <tr>\n",
       "      <th>4</th>\n",
       "      <td>5</td>\n",
       "      <td>0</td>\n",
       "      <td>3</td>\n",
       "      <td>Allen, Mr. William Henry</td>\n",
       "      <td>male</td>\n",
       "      <td>35.0</td>\n",
       "      <td>0</td>\n",
       "      <td>0</td>\n",
       "      <td>373450</td>\n",
       "      <td>8.0500</td>\n",
       "      <td>S</td>\n",
       "    </tr>\n",
       "  </tbody>\n",
       "</table>\n",
       "</div>"
      ],
      "text/plain": [
       "   PassengerId  Survived  Pclass  \\\n",
       "0            1         0       3   \n",
       "1            2         1       1   \n",
       "2            3         1       3   \n",
       "3            4         1       1   \n",
       "4            5         0       3   \n",
       "\n",
       "                                                Name     Sex   Age  SibSp  \\\n",
       "0                            Braund, Mr. Owen Harris    male  22.0      1   \n",
       "1  Cumings, Mrs. John Bradley (Florence Briggs Th...  female  38.0      1   \n",
       "2                             Heikkinen, Miss. Laina  female  26.0      0   \n",
       "3       Futrelle, Mrs. Jacques Heath (Lily May Peel)  female  35.0      1   \n",
       "4                           Allen, Mr. William Henry    male  35.0      0   \n",
       "\n",
       "   Parch            Ticket     Fare Embarked  \n",
       "0      0         A/5 21171   7.2500        S  \n",
       "1      0          PC 17599  71.2833        C  \n",
       "2      0  STON/O2. 3101282   7.9250        S  \n",
       "3      0            113803  53.1000        S  \n",
       "4      0            373450   8.0500        S  "
      ]
     },
     "execution_count": 17,
     "metadata": {},
     "output_type": "execute_result"
    }
   ],
   "source": [
    "#display dataset\n",
    "train.head()"
   ]
  },
  {
   "cell_type": "code",
   "execution_count": 18,
   "id": "87ac35eb",
   "metadata": {
    "execution": {
     "iopub.execute_input": "2022-08-29T23:58:42.546699Z",
     "iopub.status.busy": "2022-08-29T23:58:42.543947Z",
     "iopub.status.idle": "2022-08-29T23:58:42.559902Z",
     "shell.execute_reply": "2022-08-29T23:58:42.559199Z",
     "shell.execute_reply.started": "2022-08-29T23:53:09.417677Z"
    },
    "papermill": {
     "duration": 0.070484,
     "end_time": "2022-08-29T23:58:42.560065",
     "exception": false,
     "start_time": "2022-08-29T23:58:42.489581",
     "status": "completed"
    },
    "tags": []
   },
   "outputs": [
    {
     "data": {
      "text/html": [
       "<div>\n",
       "<style scoped>\n",
       "    .dataframe tbody tr th:only-of-type {\n",
       "        vertical-align: middle;\n",
       "    }\n",
       "\n",
       "    .dataframe tbody tr th {\n",
       "        vertical-align: top;\n",
       "    }\n",
       "\n",
       "    .dataframe thead th {\n",
       "        text-align: right;\n",
       "    }\n",
       "</style>\n",
       "<table border=\"1\" class=\"dataframe\">\n",
       "  <thead>\n",
       "    <tr style=\"text-align: right;\">\n",
       "      <th></th>\n",
       "      <th>PassengerId</th>\n",
       "      <th>Pclass</th>\n",
       "      <th>Name</th>\n",
       "      <th>Sex</th>\n",
       "      <th>Age</th>\n",
       "      <th>SibSp</th>\n",
       "      <th>Parch</th>\n",
       "      <th>Ticket</th>\n",
       "      <th>Fare</th>\n",
       "      <th>Embarked</th>\n",
       "    </tr>\n",
       "  </thead>\n",
       "  <tbody>\n",
       "    <tr>\n",
       "      <th>0</th>\n",
       "      <td>892</td>\n",
       "      <td>3</td>\n",
       "      <td>Kelly, Mr. James</td>\n",
       "      <td>male</td>\n",
       "      <td>34.5</td>\n",
       "      <td>0</td>\n",
       "      <td>0</td>\n",
       "      <td>330911</td>\n",
       "      <td>7.8292</td>\n",
       "      <td>Q</td>\n",
       "    </tr>\n",
       "    <tr>\n",
       "      <th>1</th>\n",
       "      <td>893</td>\n",
       "      <td>3</td>\n",
       "      <td>Wilkes, Mrs. James (Ellen Needs)</td>\n",
       "      <td>female</td>\n",
       "      <td>47.0</td>\n",
       "      <td>1</td>\n",
       "      <td>0</td>\n",
       "      <td>363272</td>\n",
       "      <td>7.0000</td>\n",
       "      <td>S</td>\n",
       "    </tr>\n",
       "    <tr>\n",
       "      <th>2</th>\n",
       "      <td>894</td>\n",
       "      <td>2</td>\n",
       "      <td>Myles, Mr. Thomas Francis</td>\n",
       "      <td>male</td>\n",
       "      <td>62.0</td>\n",
       "      <td>0</td>\n",
       "      <td>0</td>\n",
       "      <td>240276</td>\n",
       "      <td>9.6875</td>\n",
       "      <td>Q</td>\n",
       "    </tr>\n",
       "    <tr>\n",
       "      <th>3</th>\n",
       "      <td>895</td>\n",
       "      <td>3</td>\n",
       "      <td>Wirz, Mr. Albert</td>\n",
       "      <td>male</td>\n",
       "      <td>27.0</td>\n",
       "      <td>0</td>\n",
       "      <td>0</td>\n",
       "      <td>315154</td>\n",
       "      <td>8.6625</td>\n",
       "      <td>S</td>\n",
       "    </tr>\n",
       "    <tr>\n",
       "      <th>4</th>\n",
       "      <td>896</td>\n",
       "      <td>3</td>\n",
       "      <td>Hirvonen, Mrs. Alexander (Helga E Lindqvist)</td>\n",
       "      <td>female</td>\n",
       "      <td>22.0</td>\n",
       "      <td>1</td>\n",
       "      <td>1</td>\n",
       "      <td>3101298</td>\n",
       "      <td>12.2875</td>\n",
       "      <td>S</td>\n",
       "    </tr>\n",
       "  </tbody>\n",
       "</table>\n",
       "</div>"
      ],
      "text/plain": [
       "   PassengerId  Pclass                                          Name     Sex  \\\n",
       "0          892       3                              Kelly, Mr. James    male   \n",
       "1          893       3              Wilkes, Mrs. James (Ellen Needs)  female   \n",
       "2          894       2                     Myles, Mr. Thomas Francis    male   \n",
       "3          895       3                              Wirz, Mr. Albert    male   \n",
       "4          896       3  Hirvonen, Mrs. Alexander (Helga E Lindqvist)  female   \n",
       "\n",
       "    Age  SibSp  Parch   Ticket     Fare Embarked  \n",
       "0  34.5      0      0   330911   7.8292        Q  \n",
       "1  47.0      1      0   363272   7.0000        S  \n",
       "2  62.0      0      0   240276   9.6875        Q  \n",
       "3  27.0      0      0   315154   8.6625        S  \n",
       "4  22.0      1      1  3101298  12.2875        S  "
      ]
     },
     "execution_count": 18,
     "metadata": {},
     "output_type": "execute_result"
    }
   ],
   "source": [
    "#display dataset\n",
    "test.head()"
   ]
  },
  {
   "cell_type": "code",
   "execution_count": 19,
   "id": "f8cfd2fc",
   "metadata": {
    "execution": {
     "iopub.execute_input": "2022-08-29T23:58:42.681987Z",
     "iopub.status.busy": "2022-08-29T23:58:42.675809Z",
     "iopub.status.idle": "2022-08-29T23:58:42.686061Z",
     "shell.execute_reply": "2022-08-29T23:58:42.685280Z",
     "shell.execute_reply.started": "2022-08-29T23:53:14.092630Z"
    },
    "papermill": {
     "duration": 0.071531,
     "end_time": "2022-08-29T23:58:42.686281",
     "exception": false,
     "start_time": "2022-08-29T23:58:42.614750",
     "status": "completed"
    },
    "tags": []
   },
   "outputs": [
    {
     "name": "stdout",
     "output_type": "stream",
     "text": [
      "<class 'pandas.core.frame.DataFrame'>\n",
      "RangeIndex: 891 entries, 0 to 890\n",
      "Data columns (total 11 columns):\n",
      " #   Column       Non-Null Count  Dtype  \n",
      "---  ------       --------------  -----  \n",
      " 0   PassengerId  891 non-null    int64  \n",
      " 1   Survived     891 non-null    int64  \n",
      " 2   Pclass       891 non-null    int64  \n",
      " 3   Name         891 non-null    object \n",
      " 4   Sex          891 non-null    object \n",
      " 5   Age          891 non-null    float64\n",
      " 6   SibSp        891 non-null    int64  \n",
      " 7   Parch        891 non-null    int64  \n",
      " 8   Ticket       891 non-null    object \n",
      " 9   Fare         891 non-null    float64\n",
      " 10  Embarked     889 non-null    object \n",
      "dtypes: float64(2), int64(5), object(4)\n",
      "memory usage: 76.7+ KB\n"
     ]
    }
   ],
   "source": [
    "# display some information about data\n",
    "train.info()"
   ]
  },
  {
   "cell_type": "code",
   "execution_count": 20,
   "id": "8b22aa37",
   "metadata": {
    "execution": {
     "iopub.execute_input": "2022-08-29T23:58:42.795844Z",
     "iopub.status.busy": "2022-08-29T23:58:42.795145Z",
     "iopub.status.idle": "2022-08-29T23:58:42.808186Z",
     "shell.execute_reply": "2022-08-29T23:58:42.808845Z",
     "shell.execute_reply.started": "2022-08-29T23:53:16.520779Z"
    },
    "papermill": {
     "duration": 0.069569,
     "end_time": "2022-08-29T23:58:42.809072",
     "exception": false,
     "start_time": "2022-08-29T23:58:42.739503",
     "status": "completed"
    },
    "tags": []
   },
   "outputs": [
    {
     "name": "stdout",
     "output_type": "stream",
     "text": [
      "<class 'pandas.core.frame.DataFrame'>\n",
      "RangeIndex: 418 entries, 0 to 417\n",
      "Data columns (total 10 columns):\n",
      " #   Column       Non-Null Count  Dtype  \n",
      "---  ------       --------------  -----  \n",
      " 0   PassengerId  418 non-null    int64  \n",
      " 1   Pclass       418 non-null    int64  \n",
      " 2   Name         418 non-null    object \n",
      " 3   Sex          418 non-null    object \n",
      " 4   Age          418 non-null    float64\n",
      " 5   SibSp        418 non-null    int64  \n",
      " 6   Parch        418 non-null    int64  \n",
      " 7   Ticket       418 non-null    object \n",
      " 8   Fare         417 non-null    float64\n",
      " 9   Embarked     418 non-null    object \n",
      "dtypes: float64(2), int64(4), object(4)\n",
      "memory usage: 32.8+ KB\n"
     ]
    }
   ],
   "source": [
    "# display some information about data\n",
    "\n",
    "test.info()"
   ]
  },
  {
   "cell_type": "code",
   "execution_count": 21,
   "id": "d3545f19",
   "metadata": {
    "execution": {
     "iopub.execute_input": "2022-08-29T23:58:42.918755Z",
     "iopub.status.busy": "2022-08-29T23:58:42.917972Z",
     "iopub.status.idle": "2022-08-29T23:58:42.933647Z",
     "shell.execute_reply": "2022-08-29T23:58:42.933080Z",
     "shell.execute_reply.started": "2022-08-29T23:53:24.182957Z"
    },
    "papermill": {
     "duration": 0.072147,
     "end_time": "2022-08-29T23:58:42.933805",
     "exception": false,
     "start_time": "2022-08-29T23:58:42.861658",
     "status": "completed"
    },
    "tags": []
   },
   "outputs": [
    {
     "data": {
      "text/html": [
       "<div>\n",
       "<style scoped>\n",
       "    .dataframe tbody tr th:only-of-type {\n",
       "        vertical-align: middle;\n",
       "    }\n",
       "\n",
       "    .dataframe tbody tr th {\n",
       "        vertical-align: top;\n",
       "    }\n",
       "\n",
       "    .dataframe thead th {\n",
       "        text-align: right;\n",
       "    }\n",
       "</style>\n",
       "<table border=\"1\" class=\"dataframe\">\n",
       "  <thead>\n",
       "    <tr style=\"text-align: right;\">\n",
       "      <th></th>\n",
       "      <th>PassengerId</th>\n",
       "      <th>Survived</th>\n",
       "      <th>Pclass</th>\n",
       "      <th>Sex</th>\n",
       "      <th>Age</th>\n",
       "      <th>SibSp</th>\n",
       "      <th>Parch</th>\n",
       "      <th>Fare</th>\n",
       "      <th>Embarked</th>\n",
       "    </tr>\n",
       "  </thead>\n",
       "  <tbody>\n",
       "    <tr>\n",
       "      <th>0</th>\n",
       "      <td>1</td>\n",
       "      <td>0</td>\n",
       "      <td>3</td>\n",
       "      <td>male</td>\n",
       "      <td>22.0</td>\n",
       "      <td>1</td>\n",
       "      <td>0</td>\n",
       "      <td>7.2500</td>\n",
       "      <td>S</td>\n",
       "    </tr>\n",
       "    <tr>\n",
       "      <th>1</th>\n",
       "      <td>2</td>\n",
       "      <td>1</td>\n",
       "      <td>1</td>\n",
       "      <td>female</td>\n",
       "      <td>38.0</td>\n",
       "      <td>1</td>\n",
       "      <td>0</td>\n",
       "      <td>71.2833</td>\n",
       "      <td>C</td>\n",
       "    </tr>\n",
       "    <tr>\n",
       "      <th>2</th>\n",
       "      <td>3</td>\n",
       "      <td>1</td>\n",
       "      <td>3</td>\n",
       "      <td>female</td>\n",
       "      <td>26.0</td>\n",
       "      <td>0</td>\n",
       "      <td>0</td>\n",
       "      <td>7.9250</td>\n",
       "      <td>S</td>\n",
       "    </tr>\n",
       "    <tr>\n",
       "      <th>3</th>\n",
       "      <td>4</td>\n",
       "      <td>1</td>\n",
       "      <td>1</td>\n",
       "      <td>female</td>\n",
       "      <td>35.0</td>\n",
       "      <td>1</td>\n",
       "      <td>0</td>\n",
       "      <td>53.1000</td>\n",
       "      <td>S</td>\n",
       "    </tr>\n",
       "    <tr>\n",
       "      <th>4</th>\n",
       "      <td>5</td>\n",
       "      <td>0</td>\n",
       "      <td>3</td>\n",
       "      <td>male</td>\n",
       "      <td>35.0</td>\n",
       "      <td>0</td>\n",
       "      <td>0</td>\n",
       "      <td>8.0500</td>\n",
       "      <td>S</td>\n",
       "    </tr>\n",
       "  </tbody>\n",
       "</table>\n",
       "</div>"
      ],
      "text/plain": [
       "   PassengerId  Survived  Pclass     Sex   Age  SibSp  Parch     Fare Embarked\n",
       "0            1         0       3    male  22.0      1      0   7.2500        S\n",
       "1            2         1       1  female  38.0      1      0  71.2833        C\n",
       "2            3         1       3  female  26.0      0      0   7.9250        S\n",
       "3            4         1       1  female  35.0      1      0  53.1000        S\n",
       "4            5         0       3    male  35.0      0      0   8.0500        S"
      ]
     },
     "execution_count": 21,
     "metadata": {},
     "output_type": "execute_result"
    }
   ],
   "source": [
    "#delete unused columns\n",
    "train.drop(['Name','Ticket'], axis = 1, inplace = True)\n",
    "train.head()"
   ]
  },
  {
   "cell_type": "code",
   "execution_count": 22,
   "id": "704b3551",
   "metadata": {
    "execution": {
     "iopub.execute_input": "2022-08-29T23:58:43.056170Z",
     "iopub.status.busy": "2022-08-29T23:58:43.055092Z",
     "iopub.status.idle": "2022-08-29T23:58:43.059767Z",
     "shell.execute_reply": "2022-08-29T23:58:43.059025Z",
     "shell.execute_reply.started": "2022-08-29T23:53:27.194574Z"
    },
    "papermill": {
     "duration": 0.072815,
     "end_time": "2022-08-29T23:58:43.059926",
     "exception": false,
     "start_time": "2022-08-29T23:58:42.987111",
     "status": "completed"
    },
    "tags": []
   },
   "outputs": [
    {
     "data": {
      "text/html": [
       "<div>\n",
       "<style scoped>\n",
       "    .dataframe tbody tr th:only-of-type {\n",
       "        vertical-align: middle;\n",
       "    }\n",
       "\n",
       "    .dataframe tbody tr th {\n",
       "        vertical-align: top;\n",
       "    }\n",
       "\n",
       "    .dataframe thead th {\n",
       "        text-align: right;\n",
       "    }\n",
       "</style>\n",
       "<table border=\"1\" class=\"dataframe\">\n",
       "  <thead>\n",
       "    <tr style=\"text-align: right;\">\n",
       "      <th></th>\n",
       "      <th>PassengerId</th>\n",
       "      <th>Pclass</th>\n",
       "      <th>Sex</th>\n",
       "      <th>Age</th>\n",
       "      <th>SibSp</th>\n",
       "      <th>Parch</th>\n",
       "      <th>Fare</th>\n",
       "      <th>Embarked</th>\n",
       "    </tr>\n",
       "  </thead>\n",
       "  <tbody>\n",
       "    <tr>\n",
       "      <th>0</th>\n",
       "      <td>892</td>\n",
       "      <td>3</td>\n",
       "      <td>male</td>\n",
       "      <td>34.5</td>\n",
       "      <td>0</td>\n",
       "      <td>0</td>\n",
       "      <td>7.8292</td>\n",
       "      <td>Q</td>\n",
       "    </tr>\n",
       "    <tr>\n",
       "      <th>1</th>\n",
       "      <td>893</td>\n",
       "      <td>3</td>\n",
       "      <td>female</td>\n",
       "      <td>47.0</td>\n",
       "      <td>1</td>\n",
       "      <td>0</td>\n",
       "      <td>7.0000</td>\n",
       "      <td>S</td>\n",
       "    </tr>\n",
       "    <tr>\n",
       "      <th>2</th>\n",
       "      <td>894</td>\n",
       "      <td>2</td>\n",
       "      <td>male</td>\n",
       "      <td>62.0</td>\n",
       "      <td>0</td>\n",
       "      <td>0</td>\n",
       "      <td>9.6875</td>\n",
       "      <td>Q</td>\n",
       "    </tr>\n",
       "    <tr>\n",
       "      <th>3</th>\n",
       "      <td>895</td>\n",
       "      <td>3</td>\n",
       "      <td>male</td>\n",
       "      <td>27.0</td>\n",
       "      <td>0</td>\n",
       "      <td>0</td>\n",
       "      <td>8.6625</td>\n",
       "      <td>S</td>\n",
       "    </tr>\n",
       "    <tr>\n",
       "      <th>4</th>\n",
       "      <td>896</td>\n",
       "      <td>3</td>\n",
       "      <td>female</td>\n",
       "      <td>22.0</td>\n",
       "      <td>1</td>\n",
       "      <td>1</td>\n",
       "      <td>12.2875</td>\n",
       "      <td>S</td>\n",
       "    </tr>\n",
       "  </tbody>\n",
       "</table>\n",
       "</div>"
      ],
      "text/plain": [
       "   PassengerId  Pclass     Sex   Age  SibSp  Parch     Fare Embarked\n",
       "0          892       3    male  34.5      0      0   7.8292        Q\n",
       "1          893       3  female  47.0      1      0   7.0000        S\n",
       "2          894       2    male  62.0      0      0   9.6875        Q\n",
       "3          895       3    male  27.0      0      0   8.6625        S\n",
       "4          896       3  female  22.0      1      1  12.2875        S"
      ]
     },
     "execution_count": 22,
     "metadata": {},
     "output_type": "execute_result"
    }
   ],
   "source": [
    "#delete unused columns\n",
    "test.drop(['Name','Ticket'], axis = 1, inplace = True)\n",
    "test.head()"
   ]
  },
  {
   "cell_type": "code",
   "execution_count": 23,
   "id": "14ede5dd",
   "metadata": {
    "execution": {
     "iopub.execute_input": "2022-08-29T23:58:43.183555Z",
     "iopub.status.busy": "2022-08-29T23:58:43.182466Z",
     "iopub.status.idle": "2022-08-29T23:58:43.186318Z",
     "shell.execute_reply": "2022-08-29T23:58:43.186838Z",
     "shell.execute_reply.started": "2022-08-29T23:53:30.639068Z"
    },
    "papermill": {
     "duration": 0.072226,
     "end_time": "2022-08-29T23:58:43.187020",
     "exception": false,
     "start_time": "2022-08-29T23:58:43.114794",
     "status": "completed"
    },
    "tags": []
   },
   "outputs": [
    {
     "data": {
      "text/html": [
       "<div>\n",
       "<style scoped>\n",
       "    .dataframe tbody tr th:only-of-type {\n",
       "        vertical-align: middle;\n",
       "    }\n",
       "\n",
       "    .dataframe tbody tr th {\n",
       "        vertical-align: top;\n",
       "    }\n",
       "\n",
       "    .dataframe thead th {\n",
       "        text-align: right;\n",
       "    }\n",
       "</style>\n",
       "<table border=\"1\" class=\"dataframe\">\n",
       "  <thead>\n",
       "    <tr style=\"text-align: right;\">\n",
       "      <th></th>\n",
       "      <th>PassengerId</th>\n",
       "      <th>Pclass</th>\n",
       "      <th>Sex</th>\n",
       "      <th>Age</th>\n",
       "      <th>SibSp</th>\n",
       "      <th>Parch</th>\n",
       "      <th>Fare</th>\n",
       "      <th>Embarked</th>\n",
       "    </tr>\n",
       "  </thead>\n",
       "  <tbody>\n",
       "    <tr>\n",
       "      <th>0</th>\n",
       "      <td>1</td>\n",
       "      <td>3</td>\n",
       "      <td>male</td>\n",
       "      <td>22.0</td>\n",
       "      <td>1</td>\n",
       "      <td>0</td>\n",
       "      <td>7.2500</td>\n",
       "      <td>S</td>\n",
       "    </tr>\n",
       "    <tr>\n",
       "      <th>1</th>\n",
       "      <td>2</td>\n",
       "      <td>1</td>\n",
       "      <td>female</td>\n",
       "      <td>38.0</td>\n",
       "      <td>1</td>\n",
       "      <td>0</td>\n",
       "      <td>71.2833</td>\n",
       "      <td>C</td>\n",
       "    </tr>\n",
       "    <tr>\n",
       "      <th>2</th>\n",
       "      <td>3</td>\n",
       "      <td>3</td>\n",
       "      <td>female</td>\n",
       "      <td>26.0</td>\n",
       "      <td>0</td>\n",
       "      <td>0</td>\n",
       "      <td>7.9250</td>\n",
       "      <td>S</td>\n",
       "    </tr>\n",
       "    <tr>\n",
       "      <th>3</th>\n",
       "      <td>4</td>\n",
       "      <td>1</td>\n",
       "      <td>female</td>\n",
       "      <td>35.0</td>\n",
       "      <td>1</td>\n",
       "      <td>0</td>\n",
       "      <td>53.1000</td>\n",
       "      <td>S</td>\n",
       "    </tr>\n",
       "    <tr>\n",
       "      <th>4</th>\n",
       "      <td>5</td>\n",
       "      <td>3</td>\n",
       "      <td>male</td>\n",
       "      <td>35.0</td>\n",
       "      <td>0</td>\n",
       "      <td>0</td>\n",
       "      <td>8.0500</td>\n",
       "      <td>S</td>\n",
       "    </tr>\n",
       "  </tbody>\n",
       "</table>\n",
       "</div>"
      ],
      "text/plain": [
       "   PassengerId  Pclass     Sex   Age  SibSp  Parch     Fare Embarked\n",
       "0            1       3    male  22.0      1      0   7.2500        S\n",
       "1            2       1  female  38.0      1      0  71.2833        C\n",
       "2            3       3  female  26.0      0      0   7.9250        S\n",
       "3            4       1  female  35.0      1      0  53.1000        S\n",
       "4            5       3    male  35.0      0      0   8.0500        S"
      ]
     },
     "metadata": {},
     "output_type": "display_data"
    }
   ],
   "source": [
    "# Store the 'Survived' feature in a new variable and remove it from the dataset\n",
    "outcomes = train['Survived']\n",
    "features_raw = train.drop('Survived', axis = 1)\n",
    "\n",
    "# Show the new dataset with 'Survived' removed\n",
    "display(features_raw.head())"
   ]
  },
  {
   "cell_type": "code",
   "execution_count": 24,
   "id": "ccaa990a",
   "metadata": {
    "execution": {
     "iopub.execute_input": "2022-08-29T23:58:43.300877Z",
     "iopub.status.busy": "2022-08-29T23:58:43.299879Z",
     "iopub.status.idle": "2022-08-29T23:58:43.309531Z",
     "shell.execute_reply": "2022-08-29T23:58:43.310007Z",
     "shell.execute_reply.started": "2022-08-29T23:53:33.217674Z"
    },
    "papermill": {
     "duration": 0.068656,
     "end_time": "2022-08-29T23:58:43.310225",
     "exception": false,
     "start_time": "2022-08-29T23:58:43.241569",
     "status": "completed"
    },
    "tags": []
   },
   "outputs": [],
   "source": [
    "#make dummies values\n",
    "features = pd.get_dummies(features_raw)"
   ]
  },
  {
   "cell_type": "code",
   "execution_count": 25,
   "id": "8ec349b6",
   "metadata": {
    "execution": {
     "iopub.execute_input": "2022-08-29T23:58:43.423849Z",
     "iopub.status.busy": "2022-08-29T23:58:43.422834Z",
     "iopub.status.idle": "2022-08-29T23:58:43.437535Z",
     "shell.execute_reply": "2022-08-29T23:58:43.436967Z",
     "shell.execute_reply.started": "2022-08-29T23:53:35.792711Z"
    },
    "papermill": {
     "duration": 0.072391,
     "end_time": "2022-08-29T23:58:43.437697",
     "exception": false,
     "start_time": "2022-08-29T23:58:43.365306",
     "status": "completed"
    },
    "tags": []
   },
   "outputs": [
    {
     "data": {
      "text/html": [
       "<div>\n",
       "<style scoped>\n",
       "    .dataframe tbody tr th:only-of-type {\n",
       "        vertical-align: middle;\n",
       "    }\n",
       "\n",
       "    .dataframe tbody tr th {\n",
       "        vertical-align: top;\n",
       "    }\n",
       "\n",
       "    .dataframe thead th {\n",
       "        text-align: right;\n",
       "    }\n",
       "</style>\n",
       "<table border=\"1\" class=\"dataframe\">\n",
       "  <thead>\n",
       "    <tr style=\"text-align: right;\">\n",
       "      <th></th>\n",
       "      <th>PassengerId</th>\n",
       "      <th>Pclass</th>\n",
       "      <th>Age</th>\n",
       "      <th>SibSp</th>\n",
       "      <th>Parch</th>\n",
       "      <th>Fare</th>\n",
       "      <th>Sex_female</th>\n",
       "      <th>Sex_male</th>\n",
       "      <th>Embarked_C</th>\n",
       "      <th>Embarked_Q</th>\n",
       "      <th>Embarked_S</th>\n",
       "    </tr>\n",
       "  </thead>\n",
       "  <tbody>\n",
       "    <tr>\n",
       "      <th>0</th>\n",
       "      <td>1</td>\n",
       "      <td>3</td>\n",
       "      <td>22.0</td>\n",
       "      <td>1</td>\n",
       "      <td>0</td>\n",
       "      <td>7.2500</td>\n",
       "      <td>0</td>\n",
       "      <td>1</td>\n",
       "      <td>0</td>\n",
       "      <td>0</td>\n",
       "      <td>1</td>\n",
       "    </tr>\n",
       "    <tr>\n",
       "      <th>1</th>\n",
       "      <td>2</td>\n",
       "      <td>1</td>\n",
       "      <td>38.0</td>\n",
       "      <td>1</td>\n",
       "      <td>0</td>\n",
       "      <td>71.2833</td>\n",
       "      <td>1</td>\n",
       "      <td>0</td>\n",
       "      <td>1</td>\n",
       "      <td>0</td>\n",
       "      <td>0</td>\n",
       "    </tr>\n",
       "    <tr>\n",
       "      <th>2</th>\n",
       "      <td>3</td>\n",
       "      <td>3</td>\n",
       "      <td>26.0</td>\n",
       "      <td>0</td>\n",
       "      <td>0</td>\n",
       "      <td>7.9250</td>\n",
       "      <td>1</td>\n",
       "      <td>0</td>\n",
       "      <td>0</td>\n",
       "      <td>0</td>\n",
       "      <td>1</td>\n",
       "    </tr>\n",
       "    <tr>\n",
       "      <th>3</th>\n",
       "      <td>4</td>\n",
       "      <td>1</td>\n",
       "      <td>35.0</td>\n",
       "      <td>1</td>\n",
       "      <td>0</td>\n",
       "      <td>53.1000</td>\n",
       "      <td>1</td>\n",
       "      <td>0</td>\n",
       "      <td>0</td>\n",
       "      <td>0</td>\n",
       "      <td>1</td>\n",
       "    </tr>\n",
       "    <tr>\n",
       "      <th>4</th>\n",
       "      <td>5</td>\n",
       "      <td>3</td>\n",
       "      <td>35.0</td>\n",
       "      <td>0</td>\n",
       "      <td>0</td>\n",
       "      <td>8.0500</td>\n",
       "      <td>0</td>\n",
       "      <td>1</td>\n",
       "      <td>0</td>\n",
       "      <td>0</td>\n",
       "      <td>1</td>\n",
       "    </tr>\n",
       "  </tbody>\n",
       "</table>\n",
       "</div>"
      ],
      "text/plain": [
       "   PassengerId  Pclass   Age  SibSp  Parch     Fare  Sex_female  Sex_male  \\\n",
       "0            1       3  22.0      1      0   7.2500           0         1   \n",
       "1            2       1  38.0      1      0  71.2833           1         0   \n",
       "2            3       3  26.0      0      0   7.9250           1         0   \n",
       "3            4       1  35.0      1      0  53.1000           1         0   \n",
       "4            5       3  35.0      0      0   8.0500           0         1   \n",
       "\n",
       "   Embarked_C  Embarked_Q  Embarked_S  \n",
       "0           0           0           1  \n",
       "1           1           0           0  \n",
       "2           0           0           1  \n",
       "3           0           0           1  \n",
       "4           0           0           1  "
      ]
     },
     "metadata": {},
     "output_type": "display_data"
    }
   ],
   "source": [
    "#fill nulls\n",
    "features = features.fillna(0.0)\n",
    "display(features.head())"
   ]
  },
  {
   "cell_type": "code",
   "execution_count": 26,
   "id": "9bd2e2fb",
   "metadata": {
    "execution": {
     "iopub.execute_input": "2022-08-29T23:58:43.552566Z",
     "iopub.status.busy": "2022-08-29T23:58:43.551615Z",
     "iopub.status.idle": "2022-08-29T23:58:43.570756Z",
     "shell.execute_reply": "2022-08-29T23:58:43.571264Z",
     "shell.execute_reply.started": "2022-08-29T23:53:41.289748Z"
    },
    "papermill": {
     "duration": 0.078868,
     "end_time": "2022-08-29T23:58:43.571466",
     "exception": false,
     "start_time": "2022-08-29T23:58:43.492598",
     "status": "completed"
    },
    "tags": []
   },
   "outputs": [
    {
     "data": {
      "text/html": [
       "<div>\n",
       "<style scoped>\n",
       "    .dataframe tbody tr th:only-of-type {\n",
       "        vertical-align: middle;\n",
       "    }\n",
       "\n",
       "    .dataframe tbody tr th {\n",
       "        vertical-align: top;\n",
       "    }\n",
       "\n",
       "    .dataframe thead th {\n",
       "        text-align: right;\n",
       "    }\n",
       "</style>\n",
       "<table border=\"1\" class=\"dataframe\">\n",
       "  <thead>\n",
       "    <tr style=\"text-align: right;\">\n",
       "      <th></th>\n",
       "      <th>PassengerId</th>\n",
       "      <th>Pclass</th>\n",
       "      <th>Age</th>\n",
       "      <th>SibSp</th>\n",
       "      <th>Parch</th>\n",
       "      <th>Fare</th>\n",
       "      <th>Sex_female</th>\n",
       "      <th>Sex_male</th>\n",
       "      <th>Embarked_C</th>\n",
       "      <th>Embarked_Q</th>\n",
       "      <th>Embarked_S</th>\n",
       "    </tr>\n",
       "  </thead>\n",
       "  <tbody>\n",
       "    <tr>\n",
       "      <th>0</th>\n",
       "      <td>892</td>\n",
       "      <td>3</td>\n",
       "      <td>34.5</td>\n",
       "      <td>0</td>\n",
       "      <td>0</td>\n",
       "      <td>7.8292</td>\n",
       "      <td>0</td>\n",
       "      <td>1</td>\n",
       "      <td>0</td>\n",
       "      <td>1</td>\n",
       "      <td>0</td>\n",
       "    </tr>\n",
       "    <tr>\n",
       "      <th>1</th>\n",
       "      <td>893</td>\n",
       "      <td>3</td>\n",
       "      <td>47.0</td>\n",
       "      <td>1</td>\n",
       "      <td>0</td>\n",
       "      <td>7.0000</td>\n",
       "      <td>1</td>\n",
       "      <td>0</td>\n",
       "      <td>0</td>\n",
       "      <td>0</td>\n",
       "      <td>1</td>\n",
       "    </tr>\n",
       "    <tr>\n",
       "      <th>2</th>\n",
       "      <td>894</td>\n",
       "      <td>2</td>\n",
       "      <td>62.0</td>\n",
       "      <td>0</td>\n",
       "      <td>0</td>\n",
       "      <td>9.6875</td>\n",
       "      <td>0</td>\n",
       "      <td>1</td>\n",
       "      <td>0</td>\n",
       "      <td>1</td>\n",
       "      <td>0</td>\n",
       "    </tr>\n",
       "    <tr>\n",
       "      <th>3</th>\n",
       "      <td>895</td>\n",
       "      <td>3</td>\n",
       "      <td>27.0</td>\n",
       "      <td>0</td>\n",
       "      <td>0</td>\n",
       "      <td>8.6625</td>\n",
       "      <td>0</td>\n",
       "      <td>1</td>\n",
       "      <td>0</td>\n",
       "      <td>0</td>\n",
       "      <td>1</td>\n",
       "    </tr>\n",
       "    <tr>\n",
       "      <th>4</th>\n",
       "      <td>896</td>\n",
       "      <td>3</td>\n",
       "      <td>22.0</td>\n",
       "      <td>1</td>\n",
       "      <td>1</td>\n",
       "      <td>12.2875</td>\n",
       "      <td>1</td>\n",
       "      <td>0</td>\n",
       "      <td>0</td>\n",
       "      <td>0</td>\n",
       "      <td>1</td>\n",
       "    </tr>\n",
       "  </tbody>\n",
       "</table>\n",
       "</div>"
      ],
      "text/plain": [
       "   PassengerId  Pclass   Age  SibSp  Parch     Fare  Sex_female  Sex_male  \\\n",
       "0          892       3  34.5      0      0   7.8292           0         1   \n",
       "1          893       3  47.0      1      0   7.0000           1         0   \n",
       "2          894       2  62.0      0      0   9.6875           0         1   \n",
       "3          895       3  27.0      0      0   8.6625           0         1   \n",
       "4          896       3  22.0      1      1  12.2875           1         0   \n",
       "\n",
       "   Embarked_C  Embarked_Q  Embarked_S  \n",
       "0           0           1           0  \n",
       "1           0           0           1  \n",
       "2           0           1           0  \n",
       "3           0           0           1  \n",
       "4           0           0           1  "
      ]
     },
     "metadata": {},
     "output_type": "display_data"
    }
   ],
   "source": [
    "#create dummies\n",
    "X = pd.get_dummies(test)\n",
    "X = X.fillna(0.0)\n",
    "display(X.head())"
   ]
  },
  {
   "cell_type": "code",
   "execution_count": 27,
   "id": "8eb30b62",
   "metadata": {
    "execution": {
     "iopub.execute_input": "2022-08-29T23:58:43.689578Z",
     "iopub.status.busy": "2022-08-29T23:58:43.688842Z",
     "iopub.status.idle": "2022-08-29T23:58:43.694228Z",
     "shell.execute_reply": "2022-08-29T23:58:43.693632Z",
     "shell.execute_reply.started": "2022-08-29T23:53:44.115763Z"
    },
    "papermill": {
     "duration": 0.066831,
     "end_time": "2022-08-29T23:58:43.694380",
     "exception": false,
     "start_time": "2022-08-29T23:58:43.627549",
     "status": "completed"
    },
    "tags": []
   },
   "outputs": [],
   "source": [
    "# split the data\n",
    "from sklearn.model_selection import train_test_split\n",
    "X_train, X_test, y_train, y_test = train_test_split(features, outcomes, test_size=0.2, random_state=42)"
   ]
  },
  {
   "cell_type": "code",
   "execution_count": 28,
   "id": "faff22a3",
   "metadata": {
    "execution": {
     "iopub.execute_input": "2022-08-29T23:58:43.812626Z",
     "iopub.status.busy": "2022-08-29T23:58:43.811918Z",
     "iopub.status.idle": "2022-08-29T23:58:43.816996Z",
     "shell.execute_reply": "2022-08-29T23:58:43.817602Z",
     "shell.execute_reply.started": "2022-08-29T23:53:46.874090Z"
    },
    "papermill": {
     "duration": 0.067468,
     "end_time": "2022-08-29T23:58:43.817831",
     "exception": false,
     "start_time": "2022-08-29T23:58:43.750363",
     "status": "completed"
    },
    "tags": []
   },
   "outputs": [],
   "source": [
    "#important necessary libraries\n",
    "from sklearn.naive_bayes import MultinomialNB\n",
    "from sklearn.metrics import accuracy_score\n",
    "from sklearn.svm import SVC\n"
   ]
  },
  {
   "cell_type": "markdown",
   "id": "476688af",
   "metadata": {
    "papermill": {
     "duration": 0.057725,
     "end_time": "2022-08-29T23:58:43.932675",
     "exception": false,
     "start_time": "2022-08-29T23:58:43.874950",
     "status": "completed"
    },
    "tags": []
   },
   "source": [
    "# naive_bayes"
   ]
  },
  {
   "cell_type": "code",
   "execution_count": 29,
   "id": "9c792640",
   "metadata": {
    "execution": {
     "iopub.execute_input": "2022-08-29T23:58:44.051567Z",
     "iopub.status.busy": "2022-08-29T23:58:44.050821Z",
     "iopub.status.idle": "2022-08-29T23:58:44.062051Z",
     "shell.execute_reply": "2022-08-29T23:58:44.063084Z",
     "shell.execute_reply.started": "2022-08-29T23:53:49.752949Z"
    },
    "papermill": {
     "duration": 0.072945,
     "end_time": "2022-08-29T23:58:44.063406",
     "exception": false,
     "start_time": "2022-08-29T23:58:43.990461",
     "status": "completed"
    },
    "tags": []
   },
   "outputs": [
    {
     "name": "stdout",
     "output_type": "stream",
     "text": [
      "Accuracy score:  0.7150837988826816\n"
     ]
    }
   ],
   "source": [
    "# build a classifier\n",
    "naive_bayes = MultinomialNB()\n",
    "\n",
    "# Fit the model on the training data\n",
    "naive_bayes.fit(X_train, y_train)\n",
    "\n",
    "# Make predictions on the test data\n",
    "predictions = naive_bayes.predict(X_test)\n",
    "\n",
    "# display accuracy\n",
    "print('Accuracy score: ', format(accuracy_score(y_test, predictions)))"
   ]
  },
  {
   "cell_type": "markdown",
   "id": "3fe612b4",
   "metadata": {
    "papermill": {
     "duration": 0.056308,
     "end_time": "2022-08-29T23:58:44.176984",
     "exception": false,
     "start_time": "2022-08-29T23:58:44.120676",
     "status": "completed"
    },
    "tags": []
   },
   "source": [
    "# Support Victor Machine"
   ]
  },
  {
   "cell_type": "code",
   "execution_count": 30,
   "id": "f173a0d6",
   "metadata": {
    "execution": {
     "iopub.execute_input": "2022-08-29T23:58:44.296688Z",
     "iopub.status.busy": "2022-08-29T23:58:44.295863Z",
     "iopub.status.idle": "2022-08-29T23:58:44.334398Z",
     "shell.execute_reply": "2022-08-29T23:58:44.335106Z",
     "shell.execute_reply.started": "2022-08-29T23:53:52.784026Z"
    },
    "papermill": {
     "duration": 0.100169,
     "end_time": "2022-08-29T23:58:44.335362",
     "exception": false,
     "start_time": "2022-08-29T23:58:44.235193",
     "status": "completed"
    },
    "tags": []
   },
   "outputs": [
    {
     "name": "stdout",
     "output_type": "stream",
     "text": [
      "Accuracy score:  0.5977653631284916\n"
     ]
    }
   ],
   "source": [
    "# build a classifier\n",
    "model = SVC()\n",
    "\n",
    "# Fit the model.\n",
    "model.fit(X_train, y_train)\n",
    "# Make predictions. \n",
    "y_pred = model.predict(X_test)\n",
    "\n",
    "# display accuracy\n",
    "print('Accuracy score: ', format(accuracy_score(y_test, y_pred)))"
   ]
  },
  {
   "cell_type": "markdown",
   "id": "50363ddb",
   "metadata": {
    "papermill": {
     "duration": 0.056805,
     "end_time": "2022-08-29T23:58:44.449790",
     "exception": false,
     "start_time": "2022-08-29T23:58:44.392985",
     "status": "completed"
    },
    "tags": []
   },
   "source": [
    "# LogisticRegression"
   ]
  },
  {
   "cell_type": "code",
   "execution_count": 31,
   "id": "bc8a24c5",
   "metadata": {
    "execution": {
     "iopub.execute_input": "2022-08-29T23:58:44.566544Z",
     "iopub.status.busy": "2022-08-29T23:58:44.565789Z",
     "iopub.status.idle": "2022-08-29T23:58:44.786541Z",
     "shell.execute_reply": "2022-08-29T23:58:44.785924Z",
     "shell.execute_reply.started": "2022-08-29T23:53:57.155459Z"
    },
    "papermill": {
     "duration": 0.280507,
     "end_time": "2022-08-29T23:58:44.786714",
     "exception": false,
     "start_time": "2022-08-29T23:58:44.506207",
     "status": "completed"
    },
    "tags": []
   },
   "outputs": [
    {
     "name": "stdout",
     "output_type": "stream",
     "text": [
      "Accuracy score:  0.8044692737430168\n"
     ]
    }
   ],
   "source": [
    "# Import the classifier from sklearn\n",
    "from sklearn.linear_model import LogisticRegression\n",
    "\n",
    "# build a classifier\n",
    "model = LogisticRegression(max_iter = 500000)\n",
    "\n",
    "# Fit the model.\n",
    "model.fit(X_train, y_train)\n",
    "\n",
    "# Make predictions.\n",
    "y_pred = model.predict(X_test)\n",
    "\n",
    "# display accuracy\n",
    "print('Accuracy score: ', format(accuracy_score(y_test, y_pred)))"
   ]
  },
  {
   "cell_type": "markdown",
   "id": "e69e909a",
   "metadata": {
    "papermill": {
     "duration": 0.056463,
     "end_time": "2022-08-29T23:58:44.901496",
     "exception": false,
     "start_time": "2022-08-29T23:58:44.845033",
     "status": "completed"
    },
    "tags": []
   },
   "source": [
    "# Decision Tree"
   ]
  },
  {
   "cell_type": "code",
   "execution_count": 32,
   "id": "a707d963",
   "metadata": {
    "execution": {
     "iopub.execute_input": "2022-08-29T23:58:45.023754Z",
     "iopub.status.busy": "2022-08-29T23:58:45.022862Z",
     "iopub.status.idle": "2022-08-29T23:58:45.124983Z",
     "shell.execute_reply": "2022-08-29T23:58:45.125572Z",
     "shell.execute_reply.started": "2022-08-29T23:54:01.494729Z"
    },
    "papermill": {
     "duration": 0.167298,
     "end_time": "2022-08-29T23:58:45.125769",
     "exception": false,
     "start_time": "2022-08-29T23:58:44.958471",
     "status": "completed"
    },
    "tags": []
   },
   "outputs": [
    {
     "name": "stdout",
     "output_type": "stream",
     "text": [
      "Accuracy score:  0.7653631284916201\n"
     ]
    }
   ],
   "source": [
    "# Import the classifier from sklearn\n",
    "from sklearn.tree import DecisionTreeClassifier\n",
    "\n",
    "# build a classifier\n",
    "model = DecisionTreeClassifier()\n",
    "\n",
    "# Fit the model.\n",
    "model.fit(X_train, y_train)\n",
    "\n",
    "# Make predictions. \n",
    "y_test_pred = model.predict(X_test)\n",
    "\n",
    "# display accuracy\n",
    "print('Accuracy score: ', format(accuracy_score(y_test, y_test_pred)))"
   ]
  },
  {
   "cell_type": "code",
   "execution_count": 33,
   "id": "4dba7494",
   "metadata": {
    "execution": {
     "iopub.execute_input": "2022-08-29T23:58:45.258219Z",
     "iopub.status.busy": "2022-08-29T23:58:45.252514Z",
     "iopub.status.idle": "2022-08-29T23:58:45.267976Z",
     "shell.execute_reply": "2022-08-29T23:58:45.268581Z",
     "shell.execute_reply.started": "2022-08-29T23:54:05.321097Z"
    },
    "papermill": {
     "duration": 0.084527,
     "end_time": "2022-08-29T23:58:45.268797",
     "exception": false,
     "start_time": "2022-08-29T23:58:45.184270",
     "status": "completed"
    },
    "tags": []
   },
   "outputs": [
    {
     "name": "stdout",
     "output_type": "stream",
     "text": [
      "Accuracy score:  0.8268156424581006\n"
     ]
    }
   ],
   "source": [
    "# build a classifier\n",
    "model = DecisionTreeClassifier(max_depth=6, min_samples_leaf=6, min_samples_split=10)\n",
    "\n",
    "# Fit the model.\n",
    "model.fit(X_train, y_train)\n",
    "\n",
    "# Make predictions.\n",
    "y_test_pred = model.predict(X_test)\n",
    "\n",
    "# display accuracy\n",
    "print('Accuracy score: ', format(accuracy_score(y_test, y_test_pred)))"
   ]
  },
  {
   "cell_type": "markdown",
   "id": "c9a4a53a",
   "metadata": {
    "papermill": {
     "duration": 0.061736,
     "end_time": "2022-08-29T23:58:45.417949",
     "exception": false,
     "start_time": "2022-08-29T23:58:45.356213",
     "status": "completed"
    },
    "tags": []
   },
   "source": [
    "# Ensemble Methods "
   ]
  },
  {
   "cell_type": "code",
   "execution_count": 34,
   "id": "099968d3",
   "metadata": {
    "execution": {
     "iopub.execute_input": "2022-08-29T23:58:45.539869Z",
     "iopub.status.busy": "2022-08-29T23:58:45.539045Z",
     "iopub.status.idle": "2022-08-29T23:58:45.618424Z",
     "shell.execute_reply": "2022-08-29T23:58:45.617780Z",
     "shell.execute_reply.started": "2022-08-29T23:54:09.048824Z"
    },
    "papermill": {
     "duration": 0.141225,
     "end_time": "2022-08-29T23:58:45.618607",
     "exception": false,
     "start_time": "2022-08-29T23:58:45.477382",
     "status": "completed"
    },
    "tags": []
   },
   "outputs": [],
   "source": [
    "# Import the classifier from sklearn\n",
    "from sklearn.ensemble import BaggingClassifier, RandomForestClassifier, AdaBoostClassifier"
   ]
  },
  {
   "cell_type": "code",
   "execution_count": 35,
   "id": "2fa09496",
   "metadata": {
    "execution": {
     "iopub.execute_input": "2022-08-29T23:58:45.756630Z",
     "iopub.status.busy": "2022-08-29T23:58:45.755662Z",
     "iopub.status.idle": "2022-08-29T23:58:45.759018Z",
     "shell.execute_reply": "2022-08-29T23:58:45.758208Z",
     "shell.execute_reply.started": "2022-08-29T23:54:11.377808Z"
    },
    "papermill": {
     "duration": 0.070397,
     "end_time": "2022-08-29T23:58:45.759247",
     "exception": false,
     "start_time": "2022-08-29T23:58:45.688850",
     "status": "completed"
    },
    "tags": []
   },
   "outputs": [],
   "source": [
    "# build a Bagging classifier \n",
    "bag_mod = BaggingClassifier(n_estimators=200)\n",
    "\n",
    "# build a Random Forest classifier \n",
    "rf_mod = RandomForestClassifier(n_estimators=200)\n",
    "\n",
    "# build a AdaBoost classifier \n",
    "ada_mod = AdaBoostClassifier(n_estimators=300, learning_rate=0.2)"
   ]
  },
  {
   "cell_type": "code",
   "execution_count": 36,
   "id": "864c063f",
   "metadata": {
    "execution": {
     "iopub.execute_input": "2022-08-29T23:58:45.894661Z",
     "iopub.status.busy": "2022-08-29T23:58:45.890263Z",
     "iopub.status.idle": "2022-08-29T23:58:47.640513Z",
     "shell.execute_reply": "2022-08-29T23:58:47.639925Z",
     "shell.execute_reply.started": "2022-08-29T23:54:14.935006Z"
    },
    "papermill": {
     "duration": 1.814449,
     "end_time": "2022-08-29T23:58:47.640692",
     "exception": false,
     "start_time": "2022-08-29T23:58:45.826243",
     "status": "completed"
    },
    "tags": []
   },
   "outputs": [
    {
     "data": {
      "text/plain": [
       "AdaBoostClassifier(learning_rate=0.2, n_estimators=300)"
      ]
     },
     "execution_count": 36,
     "metadata": {},
     "output_type": "execute_result"
    }
   ],
   "source": [
    "# Fit your BaggingClassifier to the training data\n",
    "bag_mod.fit(X_train, y_train)\n",
    "\n",
    "# Fit your RandomForestClassifier to the training data\n",
    "rf_mod.fit(X_train, y_train)\n",
    "\n",
    "# Fit your AdaBoostClassifier to the training data\n",
    "ada_mod.fit(X_train, y_train)"
   ]
  },
  {
   "cell_type": "code",
   "execution_count": 37,
   "id": "99d37ec8",
   "metadata": {
    "execution": {
     "iopub.execute_input": "2022-08-29T23:58:47.767056Z",
     "iopub.status.busy": "2022-08-29T23:58:47.765969Z",
     "iopub.status.idle": "2022-08-29T23:58:47.879637Z",
     "shell.execute_reply": "2022-08-29T23:58:47.880211Z",
     "shell.execute_reply.started": "2022-08-29T23:54:21.072167Z"
    },
    "papermill": {
     "duration": 0.17809,
     "end_time": "2022-08-29T23:58:47.880453",
     "exception": false,
     "start_time": "2022-08-29T23:58:47.702363",
     "status": "completed"
    },
    "tags": []
   },
   "outputs": [],
   "source": [
    "# Predict using BaggingClassifier on the test data\n",
    "bag_preds = bag_mod.predict(X_test) \n",
    "\n",
    "# Predict using RandomForestClassifier on the test data\n",
    "rf_preds = rf_mod.predict(X_test)\n",
    "\n",
    "# Predict using AdaBoostClassifier on the test data\n",
    "ada_preds = ada_mod.predict(X_test)"
   ]
  },
  {
   "cell_type": "code",
   "execution_count": 38,
   "id": "5673edc1",
   "metadata": {
    "execution": {
     "iopub.execute_input": "2022-08-29T23:58:48.006868Z",
     "iopub.status.busy": "2022-08-29T23:58:48.006032Z",
     "iopub.status.idle": "2022-08-29T23:58:48.012243Z",
     "shell.execute_reply": "2022-08-29T23:58:48.013016Z",
     "shell.execute_reply.started": "2022-08-29T23:54:25.366787Z"
    },
    "papermill": {
     "duration": 0.070504,
     "end_time": "2022-08-29T23:58:48.013301",
     "exception": false,
     "start_time": "2022-08-29T23:58:47.942797",
     "status": "completed"
    },
    "tags": []
   },
   "outputs": [
    {
     "name": "stdout",
     "output_type": "stream",
     "text": [
      "Accuracy score: for BaggingClassifier  0.8156424581005587\n",
      "Accuracy score: for RandomForestClassifier  0.8212290502793296\n",
      "Accuracy score: for AdaBoostClassifier  0.8044692737430168\n"
     ]
    }
   ],
   "source": [
    "print('Accuracy score: for BaggingClassifier ', format(accuracy_score(y_test, bag_preds)))\n",
    "\n",
    "print('Accuracy score: for RandomForestClassifier ', format(accuracy_score(y_test, rf_preds)))\n",
    "\n",
    "print('Accuracy score: for AdaBoostClassifier ', format(accuracy_score(y_test, ada_preds)))"
   ]
  },
  {
   "cell_type": "markdown",
   "id": "3755ffe0",
   "metadata": {
    "papermill": {
     "duration": 0.06348,
     "end_time": "2022-08-29T23:58:48.137695",
     "exception": false,
     "start_time": "2022-08-29T23:58:48.074215",
     "status": "completed"
    },
    "tags": []
   },
   "source": [
    "# Grid Search"
   ]
  },
  {
   "cell_type": "code",
   "execution_count": 39,
   "id": "1e9e382b",
   "metadata": {
    "execution": {
     "iopub.execute_input": "2022-08-29T23:58:48.257974Z",
     "iopub.status.busy": "2022-08-29T23:58:48.257262Z",
     "iopub.status.idle": "2022-08-29T23:58:48.260392Z",
     "shell.execute_reply": "2022-08-29T23:58:48.260940Z",
     "shell.execute_reply.started": "2022-08-29T23:54:38.579141Z"
    },
    "papermill": {
     "duration": 0.065186,
     "end_time": "2022-08-29T23:58:48.261178",
     "exception": false,
     "start_time": "2022-08-29T23:58:48.195992",
     "status": "completed"
    },
    "tags": []
   },
   "outputs": [],
   "source": [
    "# Import the classifier from sklearn\n",
    "from sklearn.model_selection import train_test_split, RandomizedSearchCV"
   ]
  },
  {
   "cell_type": "code",
   "execution_count": 40,
   "id": "40a5d780",
   "metadata": {
    "execution": {
     "iopub.execute_input": "2022-08-29T23:58:48.389811Z",
     "iopub.status.busy": "2022-08-29T23:58:48.388988Z",
     "iopub.status.idle": "2022-08-29T23:58:59.714162Z",
     "shell.execute_reply": "2022-08-29T23:58:59.713172Z",
     "shell.execute_reply.started": "2022-08-29T23:54:41.198579Z"
    },
    "papermill": {
     "duration": 11.394073,
     "end_time": "2022-08-29T23:58:59.714423",
     "exception": false,
     "start_time": "2022-08-29T23:58:48.320350",
     "status": "completed"
    },
    "tags": []
   },
   "outputs": [
    {
     "name": "stdout",
     "output_type": "stream",
     "text": [
      "Accuracy score: for RandomForestClassifier  0.7988826815642458\n"
     ]
    }
   ],
   "source": [
    "# build a classifier\n",
    "clf_rf = RandomForestClassifier()\n",
    "\n",
    "# Set up the hyperparameter search\n",
    "param_dist = {\"max_depth\": [3, None],\n",
    "              \"n_estimators\": list(range(10, 200)),\n",
    "              \"max_features\": list(range(1, X_test.shape[1]+1)),\n",
    "              \"min_samples_split\": list(range(2, 11)),\n",
    "              \"min_samples_leaf\": list(range(1, 11)),\n",
    "              \"bootstrap\": [True, False],\n",
    "              \"criterion\": [\"gini\", \"entropy\"]}\n",
    "\n",
    "\n",
    "# Run a randomized search over the hyperparameters\n",
    "random_search = RandomizedSearchCV(clf_rf, param_distributions=param_dist)\n",
    "\n",
    "# Fit the model on the training data\n",
    "random_search.fit(X_train, y_train)\n",
    "\n",
    "# Make predictions on the test data\n",
    "rf_preds = random_search.best_estimator_.predict(X_test)\n",
    "\n",
    "print('Accuracy score: for RandomForestClassifier ', format(accuracy_score(y_test, rf_preds)))"
   ]
  },
  {
   "cell_type": "code",
   "execution_count": 41,
   "id": "0c5cb5df",
   "metadata": {
    "execution": {
     "iopub.execute_input": "2022-08-29T23:58:59.843768Z",
     "iopub.status.busy": "2022-08-29T23:58:59.842940Z",
     "iopub.status.idle": "2022-08-29T23:59:13.081576Z",
     "shell.execute_reply": "2022-08-29T23:59:13.080833Z",
     "shell.execute_reply.started": "2022-08-29T23:55:03.186870Z"
    },
    "papermill": {
     "duration": 13.307064,
     "end_time": "2022-08-29T23:59:13.081742",
     "exception": false,
     "start_time": "2022-08-29T23:58:59.774678",
     "status": "completed"
    },
    "tags": []
   },
   "outputs": [
    {
     "name": "stdout",
     "output_type": "stream",
     "text": [
      "Accuracy score: for AdaBoostClassifier  0.7988826815642458\n"
     ]
    }
   ],
   "source": [
    "# build a classifier for ada boost\n",
    "clf_ada = AdaBoostClassifier()\n",
    "\n",
    "# Set up the hyperparameter search\n",
    "param_dist = {\"n_estimators\": [10, 100, 200, 400],\n",
    "              \"learning_rate\": [0.001, 0.005, .01, 0.05, 0.1, 0.2, 0.3, 0.4, 0.5, 1, 2, 10, 20]}\n",
    "\n",
    "\n",
    "# Run a randomized search over the hyperparameters\n",
    "ada_search = RandomizedSearchCV(clf_ada, param_distributions=param_dist)\n",
    "\n",
    "# Fit the model on the training data\n",
    "ada_search.fit(X_train, y_train)\n",
    "\n",
    "# Make predictions on the test data\n",
    "ada_preds = ada_search.best_estimator_.predict(X_test)\n",
    "\n",
    "print('Accuracy score: for AdaBoostClassifier ', format(accuracy_score(y_test, rf_preds)))"
   ]
  }
 ],
 "metadata": {
  "kernelspec": {
   "display_name": "Python 3",
   "language": "python",
   "name": "python3"
  },
  "language_info": {
   "codemirror_mode": {
    "name": "ipython",
    "version": 3
   },
   "file_extension": ".py",
   "mimetype": "text/x-python",
   "name": "python",
   "nbconvert_exporter": "python",
   "pygments_lexer": "ipython3",
   "version": "3.7.12"
  },
  "papermill": {
   "default_parameters": {},
   "duration": 48.10513,
   "end_time": "2022-08-29T23:59:13.953952",
   "environment_variables": {},
   "exception": null,
   "input_path": "__notebook__.ipynb",
   "output_path": "__notebook__.ipynb",
   "parameters": {},
   "start_time": "2022-08-29T23:58:25.848822",
   "version": "2.3.3"
  }
 },
 "nbformat": 4,
 "nbformat_minor": 5
}
